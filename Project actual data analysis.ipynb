{
 "cells": [
  {
   "cell_type": "markdown",
   "metadata": {},
   "source": [
    "# Python data analysis"
   ]
  },
  {
   "cell_type": "code",
   "execution_count": 1,
   "metadata": {},
   "outputs": [],
   "source": [
    "import numpy as np\n",
    "import pandas as pd\n",
    "import glob\n",
    "import os"
   ]
  },
  {
   "cell_type": "code",
   "execution_count": 118,
   "metadata": {},
   "outputs": [],
   "source": [
    "path='d:\\moje_dokumenty\\Desktop\\IES\\semester 11\\Python\\project\\First_q\\ '  # make your own path to the data\n",
    "csv_path=path+\"*.csv\"\n",
    "files=glob.glob(csv_path)      # gives you list of csv files in the directory"
   ]
  },
  {
   "cell_type": "code",
   "execution_count": 119,
   "metadata": {},
   "outputs": [],
   "source": [
    "Q1= [pd.read_csv(file) for file in files]"
   ]
  },
  {
   "cell_type": "code",
   "execution_count": 120,
   "metadata": {
    "scrolled": true
   },
   "outputs": [
    {
     "data": {
      "text/plain": [
       "1820"
      ]
     },
     "execution_count": 120,
     "metadata": {},
     "output_type": "execute_result"
    }
   ],
   "source": [
    "len(Q1)"
   ]
  },
  {
   "cell_type": "code",
   "execution_count": 121,
   "metadata": {},
   "outputs": [],
   "source": [
    "path2='d:\\moje_dokumenty\\Desktop\\IES\\semester 11\\Python\\project\\second_q\\ '  # make your own path to the data\n",
    "csv_path2=path2+\"*.csv\"\n",
    "files2=glob.glob(csv_path2)      # gives you list of csv files in the directory"
   ]
  },
  {
   "cell_type": "code",
   "execution_count": 122,
   "metadata": {},
   "outputs": [
    {
     "data": {
      "text/plain": [
       "1820"
      ]
     },
     "execution_count": 122,
     "metadata": {},
     "output_type": "execute_result"
    }
   ],
   "source": [
    "Q2= [pd.read_csv(file) for file in files2]\n",
    "len(Q2)"
   ]
  },
  {
   "cell_type": "code",
   "execution_count": 123,
   "metadata": {},
   "outputs": [],
   "source": [
    "path3='d:\\moje_dokumenty\\Desktop\\IES\\semester 11\\Python\\project\\Third_q\\ '  # make your own path to the data\n",
    "csv_path3=path3+\"*.csv\"\n",
    "files3=glob.glob(csv_path3)      # gives you list of csv files in the directory"
   ]
  },
  {
   "cell_type": "code",
   "execution_count": 124,
   "metadata": {},
   "outputs": [
    {
     "data": {
      "text/plain": [
       "1820"
      ]
     },
     "execution_count": 124,
     "metadata": {},
     "output_type": "execute_result"
    }
   ],
   "source": [
    "Q3= [pd.read_csv(file) for file in files3]\n",
    "len(Q3)"
   ]
  },
  {
   "cell_type": "code",
   "execution_count": 125,
   "metadata": {},
   "outputs": [],
   "source": [
    "path4='d:\\moje_dokumenty\\Desktop\\IES\\semester 11\\Python\\project\\Fourth_q\\ '  # make your own path to the data\n",
    "csv_path4=path4+\"*.csv\"\n",
    "files4=glob.glob(csv_path4)      # gives you list of csv files in the directory"
   ]
  },
  {
   "cell_type": "code",
   "execution_count": 126,
   "metadata": {},
   "outputs": [
    {
     "data": {
      "text/plain": [
       "1820"
      ]
     },
     "execution_count": 126,
     "metadata": {},
     "output_type": "execute_result"
    }
   ],
   "source": [
    "Q4= [pd.read_csv(file) for file in files4]\n",
    "len(Q4)"
   ]
  },
  {
   "cell_type": "code",
   "execution_count": 129,
   "metadata": {},
   "outputs": [],
   "source": [
    "''' Changing names of columns to english  '''\n",
    "for x in Q1: \n",
    "    x.columns=['city', 'year', 'month', 'day', 'mean T', 'min T', 'max T', 'prec', 'humidity', 'wind']\n",
    "for x in Q2: \n",
    "    x.columns=['city', 'year', 'month', 'day', 'mean T', 'min T', 'max T', 'prec', 'humidity', 'wind']\n",
    "for x in Q3: \n",
    "    x.columns=['city', 'year', 'month', 'day', 'mean T', 'min T', 'max T', 'prec', 'humidity', 'wind']\n",
    "for x in Q4: \n",
    "    x.columns=['city', 'year', 'month', 'day', 'mean T', 'min T', 'max T', 'prec', 'humidity', 'wind']"
   ]
  },
  {
   "cell_type": "code",
   "execution_count": 132,
   "metadata": {},
   "outputs": [],
   "source": [
    "''' Creating a column with the difference between max and min daily temperature '''\n",
    "for table in Q1:\n",
    "    table[\"T diff\"]=table[\"max T\"]-table[\"min T\"]\n",
    "\n",
    "for table in Q2:\n",
    "    table[\"T diff\"]=table[\"max T\"]-table[\"min T\"]\n",
    "for table in Q3:\n",
    "    table[\"T diff\"]=table[\"max T\"]-table[\"min T\"]\n",
    "for table in Q4:\n",
    "    table[\"T diff\"]=table[\"max T\"]-table[\"min T\"]    "
   ]
  },
  {
   "cell_type": "markdown",
   "metadata": {},
   "source": [
    "## To replace NaNs with zeros in Precipitation columns"
   ]
  },
  {
   "cell_type": "code",
   "execution_count": null,
   "metadata": {},
   "outputs": [],
   "source": [
    "#Second_q[6].iloc[:,7]=Second_q[6].iloc[:,7].replace(np.NaN,0)"
   ]
  },
  {
   "cell_type": "markdown",
   "metadata": {},
   "source": [
    "## To import code for calculation of means and variances"
   ]
  },
  {
   "cell_type": "code",
   "execution_count": 135,
   "metadata": {},
   "outputs": [],
   "source": [
    "''' Calculation of quarterly mean of daily temperatures'''\n",
    "meanT_means_Q1=[np.mean(x[\"mean T\"]) for x in Q1]\n",
    "meansmean_T_Second_q=[np.mean(x[\"mean T\"]) for x in Q2]\n",
    "meansmean_T_Third_q=[np.mean(x[\"mean T\"]) for x in Q3]\n",
    "meansmean_T_Fourth_q=[np.mean(x[\"mean T\"]) for x in Q4]"
   ]
  },
  {
   "cell_type": "code",
   "execution_count": null,
   "metadata": {},
   "outputs": [],
   "source": [
    "meansprec_first_q=[np.mean(x[\"prec\"]) for x in first_q]\n",
    "meansprec_Second_q=[np.mean(x[\"prec\"]) for x in Second_q]\n",
    "meansprec_Third_q=[np.mean(x[\"prec\"]) for x in Third_q]\n",
    "meansprec_Fourth_q=[np.mean(x[\"prec\"]) for x in Fourth_q]"
   ]
  },
  {
   "cell_type": "code",
   "execution_count": null,
   "metadata": {},
   "outputs": [],
   "source": [
    "meanswind_first_q=[np.mean(x[\"wind\"]) for x in first_q]\n",
    "meanswind_Second_q=[np.mean(x[\"wind\"]) for x in Second_q]\n",
    "meanswind_Third_q=[np.mean(x[\"wind\"]) for x in Third_q]\n",
    "meanswind_Fourth_q=[np.mean(x[\"wind\"]) for x in Fourth_q]"
   ]
  },
  {
   "cell_type": "code",
   "execution_count": 138,
   "metadata": {},
   "outputs": [],
   "source": [
    "#variance of mean T\n",
    "varmean_T_first_q=[np.var(x[\"mean T\"]) for x in Q1]\n",
    "varmean_T_Second_q=[np.var(x[\"mean T\"]) for x in Q2]\n",
    "varmean_T_Third_q=[np.var(x[\"mean T\"]) for x in Q3]\n",
    "varmean_T_Fourth_q=[np.var(x[\"mean T\"]) for x in Q4]"
   ]
  },
  {
   "cell_type": "code",
   "execution_count": null,
   "metadata": {},
   "outputs": [],
   "source": [
    "#variance prec\n",
    "varprec_first_q=[np.var(x[\"prec\"]) for x in first_q]\n",
    "varprec_Second_q=[np.var(x[\"prec\"]) for x in Second_q]\n",
    "varprec_Third_q=[np.var(x[\"prec\"]) for x in Third_q]\n",
    "varprec_Fourth_q=[np.var(x[\"prec\"]) for x in Fourth_q]"
   ]
  },
  {
   "cell_type": "code",
   "execution_count": null,
   "metadata": {},
   "outputs": [],
   "source": [
    "#variance wind\n",
    "varwind_first_q=[np.var(x[\"wind\"]) for x in first_q]\n",
    "varwind_Second_q=[np.var(x[\"wind\"]) for x in Second_q]\n",
    "varwind_Third_q=[np.var(x[\"wind\"]) for x in Third_q]\n",
    "varwind_Fourth_q=[np.var(x[\"wind\"]) for x in Fourth_q]"
   ]
  },
  {
   "cell_type": "code",
   "execution_count": null,
   "metadata": {},
   "outputs": [],
   "source": []
  },
  {
   "cell_type": "code",
   "execution_count": null,
   "metadata": {},
   "outputs": [],
   "source": []
  },
  {
   "cell_type": "code",
   "execution_count": null,
   "metadata": {},
   "outputs": [],
   "source": []
  },
  {
   "cell_type": "code",
   "execution_count": 99,
   "metadata": {},
   "outputs": [],
   "source": [
    "Q4[0].iloc[:,7]=Q4[0].iloc[:,7].replace(\" \",np.NaN)\n",
    "Q4[0].iloc[:,7]=Q4[0].iloc[:,7].replace(\"   \",np.NaN)"
   ]
  }
 ],
 "metadata": {
  "kernelspec": {
   "display_name": "Python 3",
   "language": "python",
   "name": "python3"
  },
  "language_info": {
   "codemirror_mode": {
    "name": "ipython",
    "version": 3
   },
   "file_extension": ".py",
   "mimetype": "text/x-python",
   "name": "python",
   "nbconvert_exporter": "python",
   "pygments_lexer": "ipython3",
   "version": "3.7.3"
  }
 },
 "nbformat": 4,
 "nbformat_minor": 2
}
