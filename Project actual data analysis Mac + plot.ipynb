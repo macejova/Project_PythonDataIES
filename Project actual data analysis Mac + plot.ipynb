{
 "cells": [
  {
   "cell_type": "markdown",
   "metadata": {},
   "source": [
    "# Python data analysis"
   ]
  },
  {
   "cell_type": "code",
   "execution_count": 11,
   "metadata": {},
   "outputs": [],
   "source": [
    "import numpy as np\n",
    "import pandas as pd\n",
    "import glob\n",
    "import os"
   ]
  },
  {
   "cell_type": "code",
   "execution_count": 12,
   "metadata": {},
   "outputs": [],
   "source": [
    " # make your own path to the data\n",
    "path='/Users/alessandralupini/Downloads/Project_PythonDataIES-master-2/First_q/'\n",
    "csv_path=path+\"*.csv\"\n",
    "files=glob.glob(csv_path)      # gives you list of csv files in the directory\n",
    "\n",
    "files=sorted(files)"
   ]
  },
  {
   "cell_type": "code",
   "execution_count": 13,
   "metadata": {},
   "outputs": [
    {
     "data": {
      "text/plain": [
       "1820"
      ]
     },
     "execution_count": 13,
     "metadata": {},
     "output_type": "execute_result"
    }
   ],
   "source": [
    "Q1= [pd.read_csv(file) for file in files]\n",
    "len(Q1)"
   ]
  },
  {
   "cell_type": "code",
   "execution_count": 14,
   "metadata": {},
   "outputs": [],
   "source": [
    "path2='/Users/alessandralupini/Downloads/Project_PythonDataIES-master-2/second_q/'  # make your own path to the data\n",
    "csv_path2=path2+\"*.csv\"\n",
    "files2=glob.glob(csv_path2)      # gives you list of csv files in the directory\n",
    "files2=sorted(files2)            # just to make sure that the order is correct"
   ]
  },
  {
   "cell_type": "code",
   "execution_count": 15,
   "metadata": {},
   "outputs": [
    {
     "data": {
      "text/plain": [
       "1820"
      ]
     },
     "execution_count": 15,
     "metadata": {},
     "output_type": "execute_result"
    }
   ],
   "source": [
    "Q2= [pd.read_csv(file) for file in files2]\n",
    "len(Q2)"
   ]
  },
  {
   "cell_type": "code",
   "execution_count": 16,
   "metadata": {},
   "outputs": [],
   "source": [
    "path3='/Users/alessandralupini/Downloads/Project_PythonDataIES-master-2/Third_q/'  # make your own path to the data\n",
    "csv_path3=path3+\"*.csv\"\n",
    "files3=glob.glob(csv_path3)      # gives you list of csv files in the directory\n",
    "files3=sorted(files3)            # just to make sure that the order is correct"
   ]
  },
  {
   "cell_type": "code",
   "execution_count": 17,
   "metadata": {},
   "outputs": [
    {
     "data": {
      "text/plain": [
       "1820"
      ]
     },
     "execution_count": 17,
     "metadata": {},
     "output_type": "execute_result"
    }
   ],
   "source": [
    "Q3= [pd.read_csv(file) for file in files3]\n",
    "len(Q3)"
   ]
  },
  {
   "cell_type": "code",
   "execution_count": 18,
   "metadata": {},
   "outputs": [],
   "source": [
    "path4='/Users/alessandralupini/Downloads/Project_PythonDataIES-master-2/Fourth_q/'  # make your own path to the data\n",
    "csv_path4=path4+\"*.csv\"\n",
    "files4=glob.glob(csv_path4)      # gives you list of csv files in the directory\n",
    "files4=sorted(files4)            # just to make sure that the order is correct"
   ]
  },
  {
   "cell_type": "code",
   "execution_count": 19,
   "metadata": {},
   "outputs": [
    {
     "data": {
      "text/plain": [
       "1820"
      ]
     },
     "execution_count": 19,
     "metadata": {},
     "output_type": "execute_result"
    }
   ],
   "source": [
    "Q4= [pd.read_csv(file) for file in files4]\n",
    "len(Q4)"
   ]
  },
  {
   "cell_type": "code",
   "execution_count": 20,
   "metadata": {},
   "outputs": [],
   "source": [
    "''' Changing names of columns to english  '''\n",
    "for x in Q1: \n",
    "    x.columns=['city', 'year', 'month', 'day', 'mean T', 'min T', 'max T', 'prec', 'humidity', 'wind']\n",
    "for x in Q2: \n",
    "    x.columns=['city', 'year', 'month', 'day', 'mean T', 'min T', 'max T', 'prec', 'humidity', 'wind']\n",
    "for x in Q3: \n",
    "    x.columns=['city', 'year', 'month', 'day', 'mean T', 'min T', 'max T', 'prec', 'humidity', 'wind']\n",
    "for x in Q4: \n",
    "    x.columns=['city', 'year', 'month', 'day', 'mean T', 'min T', 'max T', 'prec', 'humidity', 'wind']"
   ]
  },
  {
   "cell_type": "code",
   "execution_count": 21,
   "metadata": {},
   "outputs": [],
   "source": [
    "''' Creating a column with the difference between max and min daily temperature '''\n",
    "for table in Q1:\n",
    "    table[\"T diff\"]=table[\"max T\"]-table[\"min T\"]\n",
    "\n",
    "for table in Q2:\n",
    "    table[\"T diff\"]=table[\"max T\"]-table[\"min T\"]\n",
    "for table in Q3:\n",
    "    table[\"T diff\"]=table[\"max T\"]-table[\"min T\"]\n",
    "for table in Q4:\n",
    "    table[\"T diff\"]=table[\"max T\"]-table[\"min T\"]    "
   ]
  },
  {
   "cell_type": "code",
   "execution_count": 22,
   "metadata": {},
   "outputs": [],
   "source": [
    "''' Assuming that missing values for reciprication means no rain  '''\n",
    "for x in Q1:\n",
    "    x[\"prec\"]=x[\"prec\"].replace(np.NaN,0)\n",
    "for x in Q2:\n",
    "    x[\"prec\"]=x[\"prec\"].replace(np.NaN,0)\n",
    "for x in Q3:\n",
    "    x[\"prec\"]=x[\"prec\"].replace(np.NaN,0)\n",
    "for x in Q4:\n",
    "    x[\"prec\"]=x[\"prec\"].replace(np.NaN,0)    "
   ]
  },
  {
   "cell_type": "markdown",
   "metadata": {},
   "source": [
    "## Calculations of quarterly averages and variances"
   ]
  },
  {
   "cell_type": "code",
   "execution_count": 23,
   "metadata": {},
   "outputs": [],
   "source": [
    "''' Calculation of quarterly mean of daily temperatures'''\n",
    "meanT_means_Q1=[np.mean(x[\"mean T\"]) for x in Q1]\n",
    "meanT_means_Q2=[np.mean(x[\"mean T\"]) for x in Q2]\n",
    "meanT_means_Q3=[np.mean(x[\"mean T\"]) for x in Q3]\n",
    "meanT_means_Q4=[np.mean(x[\"mean T\"]) for x in Q4]"
   ]
  },
  {
   "cell_type": "code",
   "execution_count": 24,
   "metadata": {},
   "outputs": [],
   "source": [
    "''' Calculation of quarterly mean of precipitations'''\n",
    "prec_means_Q1=[np.mean(x[\"prec\"]) for x in Q1]\n",
    "prec_means_Q2=[np.mean(x[\"prec\"]) for x in Q2]\n",
    "prec_means_Q3=[np.mean(x[\"prec\"]) for x in Q3]\n",
    "prec_means_Q4=[np.mean(x[\"prec\"]) for x in Q4]"
   ]
  },
  {
   "cell_type": "code",
   "execution_count": 25,
   "metadata": {},
   "outputs": [],
   "source": [
    "''' Calculation of quarterly mean of daily maximal wind'''\n",
    "wind_means_Q1=[np.mean(x[\"wind\"]) for x in Q1]\n",
    "wind_means_Q2=[np.mean(x[\"wind\"]) for x in Q2]\n",
    "wind_means_Q3=[np.mean(x[\"wind\"]) for x in Q3]\n",
    "wind_means_Q4=[np.mean(x[\"wind\"]) for x in Q4]"
   ]
  },
  {
   "cell_type": "code",
   "execution_count": 26,
   "metadata": {},
   "outputs": [],
   "source": [
    "''' Calculation of quarterly mean of daily temperature range'''\n",
    "Tdiff_means_Q1=[np.mean(x[\"T diff\"]) for x in Q1]\n",
    "Tdiff_means_Q2=[np.mean(x[\"T diff\"]) for x in Q2]\n",
    "Tdiff_means_Q3=[np.mean(x[\"T diff\"]) for x in Q3]\n",
    "Tdiff_means_Q4=[np.mean(x[\"T diff\"]) for x in Q4]"
   ]
  },
  {
   "cell_type": "code",
   "execution_count": 27,
   "metadata": {},
   "outputs": [],
   "source": [
    "''' Calculation of quarterly mean of humidity  '''\n",
    "hum_means_Q1=[np.mean(x[\"humidity\"]) for x in Q1]\n",
    "hum_means_Q2=[np.mean(x[\"humidity\"]) for x in Q2]\n",
    "hum_means_Q3=[np.mean(x[\"humidity\"]) for x in Q3]\n",
    "hum_means_Q4=[np.mean(x[\"humidity\"]) for x in Q4]"
   ]
  },
  {
   "cell_type": "code",
   "execution_count": 28,
   "metadata": {},
   "outputs": [],
   "source": [
    "''' Calculation of quarterly variance of daily temperatures  '''\n",
    "meanT_var_Q1=[np.var(x[\"mean T\"]) for x in Q1]\n",
    "meanT_var_Q2=[np.var(x[\"mean T\"]) for x in Q2]\n",
    "meanT_var_Q3=[np.var(x[\"mean T\"]) for x in Q3]\n",
    "meanT_var_Q4=[np.var(x[\"mean T\"]) for x in Q4]"
   ]
  },
  {
   "cell_type": "code",
   "execution_count": 29,
   "metadata": {},
   "outputs": [],
   "source": [
    "''' Calculation of quarterly variance of precipitation  '''\n",
    "prec_var_Q1=[np.var(x[\"prec\"]) for x in Q1]\n",
    "prec_var_Q2=[np.var(x[\"prec\"]) for x in Q2]\n",
    "prec_var_Q3=[np.var(x[\"prec\"]) for x in Q3]\n",
    "prec_var_Q4=[np.var(x[\"prec\"]) for x in Q4]"
   ]
  },
  {
   "cell_type": "code",
   "execution_count": 30,
   "metadata": {},
   "outputs": [],
   "source": [
    "''' Calculation of quarterly variance of daily maximal wind  '''\n",
    "wind_var_Q1=[np.var(x[\"wind\"]) for x in Q1]\n",
    "wind_var_Q2=[np.var(x[\"wind\"]) for x in Q2]\n",
    "wind_var_Q3=[np.var(x[\"wind\"]) for x in Q3]\n",
    "wind_var_Q4=[np.var(x[\"wind\"]) for x in Q4]"
   ]
  },
  {
   "cell_type": "code",
   "execution_count": 31,
   "metadata": {},
   "outputs": [],
   "source": [
    "''' Calculation of quarterly variance of daily temperature range '''\n",
    "Tdiff_var_Q1=[np.var(x[\"T diff\"]) for x in Q1]\n",
    "Tdiff_var_Q2=[np.var(x[\"T diff\"]) for x in Q2]\n",
    "Tdiff_var_Q3=[np.var(x[\"T diff\"]) for x in Q3]\n",
    "Tdiff_var_Q4=[np.var(x[\"T diff\"]) for x in Q4]"
   ]
  },
  {
   "cell_type": "code",
   "execution_count": 32,
   "metadata": {},
   "outputs": [],
   "source": [
    "''' Calculation of quarterly variance of humidity '''\n",
    "hum_var_Q1=[np.var(x[\"humidity\"]) for x in Q1]\n",
    "hum_var_Q2=[np.var(x[\"humidity\"]) for x in Q2]\n",
    "hum_var_Q3=[np.var(x[\"humidity\"]) for x in Q3]\n",
    "hum_var_Q4=[np.var(x[\"humidity\"]) for x in Q4]"
   ]
  },
  {
   "cell_type": "markdown",
   "metadata": {},
   "source": [
    "### Creating quarterly data and measures for the whole Italy"
   ]
  },
  {
   "cell_type": "code",
   "execution_count": 33,
   "metadata": {},
   "outputs": [],
   "source": [
    "''' Creating quarterly dataframes for the whole Italy ''' \n",
    "all_ITA_Q1=[pd.concat(Q1[i::35]) for i in range(int(len(Q1)/35))]\n",
    "all_ITA_Q2=[pd.concat(Q2[i::35]) for i in range(int(len(Q2)/35))]\n",
    "all_ITA_Q3=[pd.concat(Q3[i::35]) for i in range(int(len(Q3)/35))]\n",
    "all_ITA_Q4=[pd.concat(Q4[i::35]) for i in range(int(len(Q4)/35))]"
   ]
  },
  {
   "cell_type": "code",
   "execution_count": 34,
   "metadata": {},
   "outputs": [],
   "source": [
    "''' Calculation of quarterly averages for all Italian data '''\n",
    "ITA_meanT_means_Q1=[np.mean(x[\"mean T\"]) for x in all_ITA_Q1]\n",
    "ITA_wind_means_Q1=[np.mean(x[\"wind\"]) for x in all_ITA_Q1]\n",
    "ITA_prec_means_Q1=[np.mean(x[\"prec\"]) for x in all_ITA_Q1]\n",
    "ITA_Tdiff_means_Q1=[np.mean(x[\"T diff\"]) for x in all_ITA_Q1]\n",
    "ITA_hum_means_Q1=[np.mean(x[\"humidity\"]) for x in all_ITA_Q1]\n",
    "\n",
    "ITA_meanT_means_Q2=[np.mean(x[\"mean T\"]) for x in all_ITA_Q2]\n",
    "ITA_wind_means_Q2=[np.mean(x[\"wind\"]) for x in all_ITA_Q2]\n",
    "ITA_prec_means_Q2=[np.mean(x[\"prec\"]) for x in all_ITA_Q2]\n",
    "ITA_Tdiff_means_Q2=[np.mean(x[\"T diff\"]) for x in all_ITA_Q2]\n",
    "ITA_hum_means_Q2=[np.mean(x[\"humidity\"]) for x in all_ITA_Q2]\n",
    "\n",
    "ITA_meanT_means_Q3=[np.mean(x[\"mean T\"]) for x in all_ITA_Q3]\n",
    "ITA_wind_means_Q3=[np.mean(x[\"wind\"]) for x in all_ITA_Q3]\n",
    "ITA_prec_means_Q3=[np.mean(x[\"prec\"]) for x in all_ITA_Q3]\n",
    "ITA_Tdiff_means_Q3=[np.mean(x[\"T diff\"]) for x in all_ITA_Q3]\n",
    "ITA_hum_means_Q3=[np.mean(x[\"humidity\"]) for x in all_ITA_Q3]\n",
    "\n",
    "ITA_meanT_means_Q4=[np.mean(x[\"mean T\"]) for x in all_ITA_Q4]\n",
    "ITA_wind_means_Q4=[np.mean(x[\"wind\"]) for x in all_ITA_Q4]\n",
    "ITA_prec_means_Q4=[np.mean(x[\"prec\"]) for x in all_ITA_Q4]\n",
    "ITA_Tdiff_means_Q4=[np.mean(x[\"T diff\"]) for x in all_ITA_Q4]\n",
    "ITA_hum_means_Q4=[np.mean(x[\"humidity\"]) for x in all_ITA_Q4]"
   ]
  },
  {
   "cell_type": "code",
   "execution_count": 35,
   "metadata": {},
   "outputs": [],
   "source": [
    "''' Calculation of quarterly variances for all Italian data '''\n",
    "ITA_meanT_var_Q1=[np.var(x[\"mean T\"]) for x in all_ITA_Q1]\n",
    "ITA_wind_var_Q1=[np.var(x[\"wind\"]) for x in all_ITA_Q1]\n",
    "ITA_prec_var_Q1=[np.var(x[\"prec\"]) for x in all_ITA_Q1]\n",
    "ITA_Tdiff_var_Q1=[np.var(x[\"T diff\"]) for x in all_ITA_Q1]\n",
    "ITA_hum_var_Q1=[np.var(x[\"humidity\"]) for x in all_ITA_Q1]\n",
    "\n",
    "ITA_meanT_var_Q2=[np.var(x[\"mean T\"]) for x in all_ITA_Q2]\n",
    "ITA_wind_var_Q2=[np.var(x[\"wind\"]) for x in all_ITA_Q2]\n",
    "ITA_prec_var_Q2=[np.var(x[\"prec\"]) for x in all_ITA_Q2]\n",
    "ITA_Tdiff_var_Q2=[np.var(x[\"T diff\"]) for x in all_ITA_Q2]\n",
    "ITA_hum_var_Q2=[np.var(x[\"humidity\"]) for x in all_ITA_Q2]\n",
    "\n",
    "ITA_meanT_var_Q3=[np.var(x[\"mean T\"]) for x in all_ITA_Q3]\n",
    "ITA_wind_var_Q3=[np.var(x[\"wind\"]) for x in all_ITA_Q3]\n",
    "ITA_prec_var_Q3=[np.var(x[\"prec\"]) for x in all_ITA_Q3]\n",
    "ITA_Tdiff_var_Q3=[np.var(x[\"T diff\"]) for x in all_ITA_Q3]\n",
    "ITA_hum_var_Q3=[np.var(x[\"humidity\"]) for x in all_ITA_Q3]\n",
    "\n",
    "ITA_meanT_var_Q4=[np.var(x[\"mean T\"]) for x in all_ITA_Q4]\n",
    "ITA_wind_var_Q4=[np.var(x[\"wind\"]) for x in all_ITA_Q4]\n",
    "ITA_prec_var_Q4=[np.var(x[\"prec\"]) for x in all_ITA_Q4]\n",
    "ITA_Tdiff_var_Q4=[np.var(x[\"T diff\"]) for x in all_ITA_Q4]\n",
    "ITA_hum_var_Q4=[np.var(x[\"humidity\"]) for x in all_ITA_Q4]"
   ]
  },
  {
   "cell_type": "code",
   "execution_count": null,
   "metadata": {},
   "outputs": [],
   "source": []
  },
  {
   "cell_type": "markdown",
   "metadata": {},
   "source": [
    "# To do: create 35-long time series for each city across variables and quarters for both averages and variances \n",
    "\n",
    "# interpret averages and variances time series that we have, their historical development, what can we imply from that, plot them to see how they were changing throughout the time; to think what else can we learn from our data\n",
    "\n",
    "## Perhaps good idea to plot all of the 52 city time series of variable X over Nth quarter into a single plot; for better comparison we can standardized each series of averages and variances with the mean of that time series"
   ]
  },
  {
   "cell_type": "code",
   "execution_count": 46,
   "metadata": {},
   "outputs": [],
   "source": [
    "# list of city specific time series of averages of the variable \"mean temperature\" over quarters\n",
    "t_series_meanT_means_Q1=[meanT_means_Q1[i*35:((i+1)*35)] for i in range(52)]\n",
    "t_series_meanT_means_Q2=[meanT_means_Q2[i*35:((i+1)*35)] for i in range(52)]\n",
    "t_series_meanT_means_Q3=[meanT_means_Q3[i*35:((i+1)*35)] for i in range(52)]\n",
    "t_series_meanT_means_Q4=[meanT_means_Q4[i*35:((i+1)*35)] for i in range(52)]\n"
   ]
  },
  {
   "cell_type": "code",
   "execution_count": 57,
   "metadata": {},
   "outputs": [],
   "source": [
    "# list of city specific time series of averages of the variable \"wind\" over quarters\n",
    "t_series_wind_means_Q1=[wind_means_Q1[i*35:((i+1)*35)] for i in range(52)]\n",
    "t_series_wind_means_Q2=[wind_means_Q2[i*35:((i+1)*35)] for i in range(52)]\n",
    "t_series_wind_means_Q3=[wind_means_Q3[i*35:((i+1)*35)] for i in range(52)]\n",
    "t_series_wind_means_Q4=[wind_means_Q4[i*35:((i+1)*35)] for i in range(52)]\n",
    "\n"
   ]
  },
  {
   "cell_type": "code",
   "execution_count": null,
   "metadata": {},
   "outputs": [],
   "source": [
    "# list of city specific time series of averages of the variable \"precipitation\" over quarters\n",
    "t_series_prec_means_Q1=[prec_means_Q1[i*35:((i+1)*35)] for i in range(52)]\n",
    "t_series_prec_means_Q2=[prec_means_Q2[i*35:((i+1)*35)] for i in range(52)]\n",
    "t_series_prec_means_Q3=[prec_means_Q3[i*35:((i+1)*35)] for i in range(52)]\n",
    "t_series_prec_means_Q4=[prec_means_Q4[i*35:((i+1)*35)] for i in range(52)]"
   ]
  },
  {
   "cell_type": "code",
   "execution_count": 58,
   "metadata": {},
   "outputs": [],
   "source": [
    "# list of city specific time series of averages of the variable \"temperature rage\" over quarters\n",
    "t_series_Tdiff_means_Q1=[Tdiff_means_Q1[i*35:((i+1)*35)] for i in range(52)]\n",
    "t_series_Tdiff_means_Q2=[Tdiff_means_Q2[i*35:((i+1)*35)] for i in range(52)]\n",
    "t_series_Tdiff_means_Q3=[Tdiff_means_Q3[i*35:((i+1)*35)] for i in range(52)]\n",
    "t_series_Tdiff_means_Q4=[Tdiff_means_Q4[i*35:((i+1)*35)] for i in range(52)]"
   ]
  },
  {
   "cell_type": "code",
   "execution_count": 59,
   "metadata": {},
   "outputs": [],
   "source": [
    "# list of city specific time series of averages of the variable \"humidity\" over quarters\n",
    "t_series_hum_means_Q1=[hum_means_Q1[i*35:((i+1)*35)] for i in range(52)]\n",
    "t_series_hum_means_Q2=[hum_means_Q2[i*35:((i+1)*35)] for i in range(52)]\n",
    "t_series_hum_means_Q3=[hum_means_Q3[i*35:((i+1)*35)] for i in range(52)]\n",
    "t_series_hum_means_Q4=[hum_means_Q4[i*35:((i+1)*35)] for i in range(52)]"
   ]
  },
  {
   "cell_type": "code",
   "execution_count": 60,
   "metadata": {},
   "outputs": [
    {
     "name": "stdout",
     "output_type": "stream",
     "text": [
      "52\n",
      "35\n"
     ]
    }
   ],
   "source": [
    "print(len(t_series_meanT_means_Q2))   # we have list of 52 time series - for each city \n",
    "print(len(t_series_meanT_means_Q2[0])) # each time series has 35 observations - first quarter of years 1985-2019 "
   ]
  },
  {
   "cell_type": "code",
   "execution_count": 61,
   "metadata": {},
   "outputs": [
    {
     "data": {
      "text/plain": [
       "[8.879999999999999,\n",
       " 8.977777777777774,\n",
       " 7.453333333333335,\n",
       " 9.073626373626377,\n",
       " 9.045555555555556,\n",
       " 9.643333333333329,\n",
       " 9.210000000000003,\n",
       " 8.674725274725278,\n",
       " 7.635555555555557,\n",
       " 10.42,\n",
       " 9.207777777777782,\n",
       " 8.254945054945056,\n",
       " 9.468888888888888,\n",
       " 9.133333333333335,\n",
       " 8.858426966292138,\n",
       " 8.790588235294116,\n",
       " 11.040000000000004,\n",
       " 9.463333333333335,\n",
       " 7.947777777777782,\n",
       " 8.647252747252743,\n",
       " 7.524444444444442,\n",
       " 8.494444444444445,\n",
       " 10.443333333333335,\n",
       " 9.83186813186813,\n",
       " 8.931818181818182,\n",
       " 9.314606741573034,\n",
       " 8.898876404494382,\n",
       " 8.887640449438202,\n",
       " 9.707865168539326,\n",
       " 12.07865168539326,\n",
       " 9.333333333333334,\n",
       " 11.714285714285714,\n",
       " 9.426966292134832,\n",
       " 9.855555555555556,\n",
       " 9.48314606741573]"
      ]
     },
     "execution_count": 61,
     "metadata": {},
     "output_type": "execute_result"
    }
   ],
   "source": [
    "t_series_meanT_means_Q1[0] # average temperature during 1st quarter of year in Bari (1st city), 1985-2019"
   ]
  },
  {
   "cell_type": "code",
   "execution_count": 51,
   "metadata": {},
   "outputs": [],
   "source": [
    "# list of city specific time series of variance of the variable \"mean temperature\" over quarters\n",
    "t_series_meanT_var_Q1=[meanT_var_Q1[i*35:((i+1)*35)] for i in range(52)]\n",
    "t_series_meanT_var_Q2=[meanT_var_Q2[i*35:((i+1)*35)] for i in range(52)]\n",
    "t_series_meanT_var_Q3=[meanT_var_Q3[i*35:((i+1)*35)] for i in range(52)]\n",
    "t_series_meanT_var_Q4=[meanT_var_Q4[i*35:((i+1)*35)] for i in range(52)]"
   ]
  },
  {
   "cell_type": "code",
   "execution_count": 53,
   "metadata": {},
   "outputs": [],
   "source": [
    "# list of city specific time series of variance of the variable \"precipitation\" over quarters\n",
    "t_series_prec_var_Q1=[prec_var_Q1[i*35:((i+1)*35)] for i in range(52)]\n",
    "t_series_prec_var_Q2=[prec_var_Q2[i*35:((i+1)*35)] for i in range(52)]\n",
    "t_series_prec_var_Q3=[prec_var_Q3[i*35:((i+1)*35)] for i in range(52)]\n",
    "t_series_prec_var_Q4=[prec_var_Q4[i*35:((i+1)*35)] for i in range(52)]"
   ]
  },
  {
   "cell_type": "code",
   "execution_count": 54,
   "metadata": {},
   "outputs": [],
   "source": [
    "# list of city specific time series of variance of the variable \"wind\" over quarters\n",
    "t_series_wind_var_Q1=[wind_var_Q1[i*35:((i+1)*35)] for i in range(52)]\n",
    "t_series_wind_var_Q2=[wind_var_Q2[i*35:((i+1)*35)] for i in range(52)]\n",
    "t_series_wind_var_Q3=[wind_var_Q3[i*35:((i+1)*35)] for i in range(52)]\n",
    "t_series_wind_var_Q4=[wind_var_Q4[i*35:((i+1)*35)] for i in range(52)]"
   ]
  },
  {
   "cell_type": "code",
   "execution_count": null,
   "metadata": {},
   "outputs": [],
   "source": [
    "# list of city specific time series of variance of the variable \"temperature rage\" over quarters\n",
    "t_series_Tdiff_var_Q1=[Tdiff_var_Q1[i*35:((i+1)*35)] for i in range(52)]\n",
    "t_series_Tdiff_var_Q2=[Tdiff_var_Q2[i*35:((i+1)*35)] for i in range(52)]\n",
    "t_series_Tdiff_var_Q3=[Tdiff_var_Q3[i*35:((i+1)*35)] for i in range(52)]\n",
    "t_series_Tdiff_var_Q4=[Tdiff_var_Q4[i*35:((i+1)*35)] for i in range(52)]"
   ]
  },
  {
   "cell_type": "code",
   "execution_count": 56,
   "metadata": {},
   "outputs": [],
   "source": [
    "# list of city specific time series of variance of the variable \"humidity\" over quarters\n",
    "t_series_hum_var_Q1=[hum_var_Q1[i*35:((i+1)*35)] for i in range(52)]\n",
    "t_series_hum_var_Q2=[hum_var_Q2[i*35:((i+1)*35)] for i in range(52)]\n",
    "t_series_hum_var_Q3=[hum_var_Q3[i*35:((i+1)*35)] for i in range(52)]\n",
    "t_series_hum_var_Q4=[hum_var_Q4[i*35:((i+1)*35)] for i in range(52)]\n"
   ]
  },
  {
   "cell_type": "code",
   "execution_count": 82,
   "metadata": {},
   "outputs": [],
   "source": [
    "# plot time series \n",
    "\n",
    "#importing matplot \n",
    "import matplotlib.pyplot as plt\n",
    "%matplotlib inline"
   ]
  },
  {
   "cell_type": "code",
   "execution_count": 83,
   "metadata": {},
   "outputs": [],
   "source": [
    "#importing daytime\n",
    "#from datetime import datetime, timedelta"
   ]
  },
  {
   "cell_type": "code",
   "execution_count": 86,
   "metadata": {},
   "outputs": [],
   "source": [
    "#for date format\n",
    "#from matplotlib import dates as mpl_dates\n",
    "#date_format = mpl_dates.DateFormatter('%b, %d, %Y')\n",
    "from matplotlib import style\n",
    "from pandas import Series"
   ]
  },
  {
   "cell_type": "code",
   "execution_count": 88,
   "metadata": {},
   "outputs": [],
   "source": [
    "style.use ('ggplot')\n"
   ]
  },
  {
   "cell_type": "code",
   "execution_count": 134,
   "metadata": {},
   "outputs": [
    {
     "data": {
      "text/plain": [
       "52"
      ]
     },
     "execution_count": 134,
     "metadata": {},
     "output_type": "execute_result"
    }
   ],
   "source": [
    "len(t_series_meanT_means_Q1)"
   ]
  },
  {
   "cell_type": "code",
   "execution_count": 149,
   "metadata": {
    "scrolled": true
   },
   "outputs": [],
   "source": [
    "start_year=1985\n",
    "a=start_year\n",
    "end_year=2019\n",
    "chosen_years=[a]\n",
    "while a<end_year:                # getting the list of chosen years\n",
    "    chosen_years.append(a+1)\n",
    "    a+=1"
   ]
  },
  {
   "cell_type": "code",
   "execution_count": 150,
   "metadata": {},
   "outputs": [],
   "source": [
    "years = [1]*35"
   ]
  },
  {
   "cell_type": "code",
   "execution_count": 152,
   "metadata": {},
   "outputs": [
    {
     "data": {
      "image/png": "[encoded data removed]",
      "text/plain": [
       "<Figure size 432x288 with 1 Axes>"
      ]
     },
     "metadata": {},
     "output_type": "display_data"
    }
   ],
   "source": [
    "x = chosen_years\n",
    "y = t_series_meanT_means_Q1[0]\n",
    "plt.plot(x, y, '-')\n",
    "plt.title('change in t')\n",
    "plt.xlabel('year')\n",
    "plt.ylabel('t mean')\n",
    "plt.show()"
   ]
  },
  {
   "cell_type": "code",
   "execution_count": 128,
   "metadata": {},
   "outputs": [
    {
     "name": "stdout",
     "output_type": "stream",
     "text": [
      "Help on function plot in module matplotlib.pyplot:\n",
      "\n",
      "plot(*args, scalex=True, scaley=True, data=None, **kwargs)\n",
      "    Plot y versus x as lines and/or markers.\n",
      "    \n",
      "    Call signatures::\n",
      "    \n",
      "        plot([x], y, [fmt], *, data=None, **kwargs)\n",
      "        plot([x], y, [fmt], [x2], y2, [fmt2], ..., **kwargs)\n",
      "    \n",
      "    The coordinates of the points or line nodes are given by *x*, *y*.\n",
      "    \n",
      "    The optional parameter *fmt* is a convenient way for defining basic\n",
      "    formatting like color, marker and linestyle. It's a shortcut string\n",
      "    notation described in the *Notes* section below.\n",
      "    \n",
      "    >>> plot(x, y)        # plot x and y using default line style and color\n",
      "    >>> plot(x, y, 'bo')  # plot x and y using blue circle markers\n",
      "    >>> plot(y)           # plot y using x as index array 0..N-1\n",
      "    >>> plot(y, 'r+')     # ditto, but with red plusses\n",
      "    \n",
      "    You can use `.Line2D` properties as keyword arguments for more\n",
      "    control on the appearance. Line properties and *fmt* can be mixed.\n",
      "    The following two calls yield identical results:\n",
      "    \n",
      "    >>> plot(x, y, 'go--', linewidth=2, markersize=12)\n",
      "    >>> plot(x, y, color='green', marker='o', linestyle='dashed',\n",
      "    ...      linewidth=2, markersize=12)\n",
      "    \n",
      "    When conflicting with *fmt*, keyword arguments take precedence.\n",
      "    \n",
      "    \n",
      "    **Plotting labelled data**\n",
      "    \n",
      "    There's a convenient way for plotting objects with labelled data (i.e.\n",
      "    data that can be accessed by index ``obj['y']``). Instead of giving\n",
      "    the data in *x* and *y*, you can provide the object in the *data*\n",
      "    parameter and just give the labels for *x* and *y*::\n",
      "    \n",
      "    >>> plot('xlabel', 'ylabel', data=obj)\n",
      "    \n",
      "    All indexable objects are supported. This could e.g. be a `dict`, a\n",
      "    `pandas.DataFame` or a structured numpy array.\n",
      "    \n",
      "    \n",
      "    **Plotting multiple sets of data**\n",
      "    \n",
      "    There are various ways to plot multiple sets of data.\n",
      "    \n",
      "    - The most straight forward way is just to call `plot` multiple times.\n",
      "      Example:\n",
      "    \n",
      "      >>> plot(x1, y1, 'bo')\n",
      "      >>> plot(x2, y2, 'go')\n",
      "    \n",
      "    - Alternatively, if your data is already a 2d array, you can pass it\n",
      "      directly to *x*, *y*. A separate data set will be drawn for every\n",
      "      column.\n",
      "    \n",
      "      Example: an array ``a`` where the first column represents the *x*\n",
      "      values and the other columns are the *y* columns::\n",
      "    \n",
      "      >>> plot(a[0], a[1:])\n",
      "    \n",
      "    - The third way is to specify multiple sets of *[x]*, *y*, *[fmt]*\n",
      "      groups::\n",
      "    \n",
      "      >>> plot(x1, y1, 'g^', x2, y2, 'g-')\n",
      "    \n",
      "      In this case, any additional keyword argument applies to all\n",
      "      datasets. Also this syntax cannot be combined with the *data*\n",
      "      parameter.\n",
      "    \n",
      "    By default, each line is assigned a different style specified by a\n",
      "    'style cycle'. The *fmt* and line property parameters are only\n",
      "    necessary if you want explicit deviations from these defaults.\n",
      "    Alternatively, you can also change the style cycle using the\n",
      "    'axes.prop_cycle' rcParam.\n",
      "    \n",
      "    \n",
      "    Parameters\n",
      "    ----------\n",
      "    x, y : array-like or scalar\n",
      "        The horizontal / vertical coordinates of the data points.\n",
      "        *x* values are optional and default to `range(len(y))`.\n",
      "    \n",
      "        Commonly, these parameters are 1D arrays.\n",
      "    \n",
      "        They can also be scalars, or two-dimensional (in that case, the\n",
      "        columns represent separate data sets).\n",
      "    \n",
      "        These arguments cannot be passed as keywords.\n",
      "    \n",
      "    fmt : str, optional\n",
      "        A format string, e.g. 'ro' for red circles. See the *Notes*\n",
      "        section for a full description of the format strings.\n",
      "    \n",
      "        Format strings are just an abbreviation for quickly setting\n",
      "        basic line properties. All of these and more can also be\n",
      "        controlled by keyword arguments.\n",
      "    \n",
      "        This argument cannot be passed as keyword.\n",
      "    \n",
      "    data : indexable object, optional\n",
      "        An object with labelled data. If given, provide the label names to\n",
      "        plot in *x* and *y*.\n",
      "    \n",
      "        .. note::\n",
      "            Technically there's a slight ambiguity in calls where the\n",
      "            second label is a valid *fmt*. `plot('n', 'o', data=obj)`\n",
      "            could be `plt(x, y)` or `plt(y, fmt)`. In such cases,\n",
      "            the former interpretation is chosen, but a warning is issued.\n",
      "            You may suppress the warning by adding an empty format string\n",
      "            `plot('n', 'o', '', data=obj)`.\n",
      "    \n",
      "    Other Parameters\n",
      "    ----------------\n",
      "    scalex, scaley : bool, optional, default: True\n",
      "        These parameters determined if the view limits are adapted to\n",
      "        the data limits. The values are passed on to `autoscale_view`.\n",
      "    \n",
      "    **kwargs : `.Line2D` properties, optional\n",
      "        *kwargs* are used to specify properties like a line label (for\n",
      "        auto legends), linewidth, antialiasing, marker face color.\n",
      "        Example::\n",
      "    \n",
      "        >>> plot([1,2,3], [1,2,3], 'go-', label='line 1', linewidth=2)\n",
      "        >>> plot([1,2,3], [1,4,9], 'rs',  label='line 2')\n",
      "    \n",
      "        If you make multiple lines with one plot command, the kwargs\n",
      "        apply to all those lines.\n",
      "    \n",
      "        Here is a list of available `.Line2D` properties:\n",
      "    \n",
      "      agg_filter: a filter function, which takes a (m, n, 3) float array and a dpi value, and returns a (m, n, 3) array\n",
      "      alpha: float\n",
      "      animated: bool\n",
      "      antialiased or aa: bool\n",
      "      clip_box: `.Bbox`\n",
      "      clip_on: bool\n",
      "      clip_path: [(`~matplotlib.path.Path`, `.Transform`) | `.Patch` | None]\n",
      "      color or c: color\n",
      "      contains: callable\n",
      "      dash_capstyle: {'butt', 'round', 'projecting'}\n",
      "      dash_joinstyle: {'miter', 'round', 'bevel'}\n",
      "      dashes: sequence of floats (on/off ink in points) or (None, None)\n",
      "      drawstyle or ds: {'default', 'steps', 'steps-pre', 'steps-mid', 'steps-post'}, default: 'default'\n",
      "      figure: `.Figure`\n",
      "      fillstyle: {'full', 'left', 'right', 'bottom', 'top', 'none'}\n",
      "      gid: str\n",
      "      in_layout: bool\n",
      "      label: object\n",
      "      linestyle or ls: {'-', '--', '-.', ':', '', (offset, on-off-seq), ...}\n",
      "      linewidth or lw: float\n",
      "      marker: marker style\n",
      "      markeredgecolor or mec: color\n",
      "      markeredgewidth or mew: float\n",
      "      markerfacecolor or mfc: color\n",
      "      markerfacecoloralt or mfcalt: color\n",
      "      markersize or ms: float\n",
      "      markevery: None or int or (int, int) or slice or List[int] or float or (float, float)\n",
      "      path_effects: `.AbstractPathEffect`\n",
      "      picker: float or callable[[Artist, Event], Tuple[bool, dict]]\n",
      "      pickradius: float\n",
      "      rasterized: bool or None\n",
      "      sketch_params: (scale: float, length: float, randomness: float)\n",
      "      snap: bool or None\n",
      "      solid_capstyle: {'butt', 'round', 'projecting'}\n",
      "      solid_joinstyle: {'miter', 'round', 'bevel'}\n",
      "      transform: `matplotlib.transforms.Transform`\n",
      "      url: str\n",
      "      visible: bool\n",
      "      xdata: 1D array\n",
      "      ydata: 1D array\n",
      "      zorder: float\n",
      "    \n",
      "    Returns\n",
      "    -------\n",
      "    lines\n",
      "        A list of `.Line2D` objects representing the plotted data.\n",
      "    \n",
      "    See Also\n",
      "    --------\n",
      "    scatter : XY scatter plot with markers of varying size and/or color (\n",
      "        sometimes also called bubble chart).\n",
      "    \n",
      "    Notes\n",
      "    -----\n",
      "    **Format Strings**\n",
      "    \n",
      "    A format string consists of a part for color, marker and line::\n",
      "    \n",
      "        fmt = '[marker][line][color]'\n",
      "    \n",
      "    Each of them is optional. If not provided, the value from the style\n",
      "    cycle is used. Exception: If ``line`` is given, but no ``marker``,\n",
      "    the data will be a line without markers.\n",
      "    \n",
      "    Other combinations such as ``[color][marker][line]`` are also\n",
      "    supported, but note that their parsing may be ambiguous.\n",
      "    \n",
      "    **Markers**\n",
      "    \n",
      "    =============    ===============================\n",
      "    character        description\n",
      "    =============    ===============================\n",
      "    ``'.'``          point marker\n",
      "    ``','``          pixel marker\n",
      "    ``'o'``          circle marker\n",
      "    ``'v'``          triangle_down marker\n",
      "    ``'^'``          triangle_up marker\n",
      "    ``'<'``          triangle_left marker\n",
      "    ``'>'``          triangle_right marker\n",
      "    ``'1'``          tri_down marker\n",
      "    ``'2'``          tri_up marker\n",
      "    ``'3'``          tri_left marker\n",
      "    ``'4'``          tri_right marker\n",
      "    ``'s'``          square marker\n",
      "    ``'p'``          pentagon marker\n",
      "    ``'*'``          star marker\n",
      "    ``'h'``          hexagon1 marker\n",
      "    ``'H'``          hexagon2 marker\n",
      "    ``'+'``          plus marker\n",
      "    ``'x'``          x marker\n",
      "    ``'D'``          diamond marker\n",
      "    ``'d'``          thin_diamond marker\n",
      "    ``'|'``          vline marker\n",
      "    ``'_'``          hline marker\n",
      "    =============    ===============================\n",
      "    \n",
      "    **Line Styles**\n",
      "    \n",
      "    =============    ===============================\n",
      "    character        description\n",
      "    =============    ===============================\n",
      "    ``'-'``          solid line style\n",
      "    ``'--'``         dashed line style\n",
      "    ``'-.'``         dash-dot line style\n",
      "    ``':'``          dotted line style\n",
      "    =============    ===============================\n",
      "    \n",
      "    Example format strings::\n",
      "    \n",
      "        'b'    # blue markers with default shape\n",
      "        'or'   # red circles\n",
      "        '-g'   # green solid line\n",
      "        '--'   # dashed line with default color\n",
      "        '^k:'  # black triangle_up markers connected by a dotted line\n",
      "    \n",
      "    **Colors**\n",
      "    \n",
      "    The supported color abbreviations are the single letter codes\n",
      "    \n",
      "    =============    ===============================\n",
      "    character        color\n",
      "    =============    ===============================\n",
      "    ``'b'``          blue\n",
      "    ``'g'``          green\n",
      "    ``'r'``          red\n",
      "    ``'c'``          cyan\n",
      "    ``'m'``          magenta\n",
      "    ``'y'``          yellow\n",
      "    ``'k'``          black\n",
      "    ``'w'``          white\n",
      "    =============    ===============================\n",
      "    \n",
      "    and the ``'CN'`` colors that index into the default property cycle.\n",
      "    \n",
      "    If the color is the only part of the format string, you can\n",
      "    additionally use any  `matplotlib.colors` spec, e.g. full names\n",
      "    (``'green'``) or hex strings (``'#008000'``).\n",
      "\n"
     ]
    }
   ],
   "source": [
    "help(plt.plot)"
   ]
  },
  {
   "cell_type": "code",
   "execution_count": null,
   "metadata": {},
   "outputs": [],
   "source": []
  }
 ],
 "metadata": {
  "kernelspec": {
   "display_name": "Python 3",
   "language": "python",
   "name": "python3"
  },
  "language_info": {
   "codemirror_mode": {
    "name": "ipython",
    "version": 3
   },
   "file_extension": ".py",
   "mimetype": "text/x-python",
   "name": "python",
   "nbconvert_exporter": "python",
   "pygments_lexer": "ipython3",
   "version": "3.7.3"
  }
 },
 "nbformat": 4,
 "nbformat_minor": 2
}
