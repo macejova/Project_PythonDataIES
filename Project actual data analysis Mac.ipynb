{
 "cells": [
  {
   "cell_type": "markdown",
   "metadata": {},
   "source": [
    "# Python data analysis"
   ]
  },
  {
   "cell_type": "code",
   "execution_count": 11,
   "metadata": {},
   "outputs": [],
   "source": [
    "import numpy as np\n",
    "import pandas as pd\n",
    "import glob\n",
    "import os"
   ]
  },
  {
   "cell_type": "code",
   "execution_count": 12,
   "metadata": {},
   "outputs": [],
   "source": [
    " # make your own path to the data\n",
    "path='/Users/alessandralupini/Downloads/Project_PythonDataIES-master-2/First_q/'\n",
    "csv_path=path+\"*.csv\"\n",
    "files=glob.glob(csv_path)      # gives you list of csv files in the directory\n",
    "\n",
    "files=sorted(files)"
   ]
  },
  {
   "cell_type": "code",
   "execution_count": 13,
   "metadata": {},
   "outputs": [
    {
     "data": {
      "text/plain": [
       "1820"
      ]
     },
     "execution_count": 13,
     "metadata": {},
     "output_type": "execute_result"
    }
   ],
   "source": [
    "Q1= [pd.read_csv(file) for file in files]\n",
    "len(Q1)"
   ]
  },
  {
   "cell_type": "code",
   "execution_count": 14,
   "metadata": {},
   "outputs": [],
   "source": [
    "path2='/Users/alessandralupini/Downloads/Project_PythonDataIES-master-2/second_q/'  # make your own path to the data\n",
    "csv_path2=path2+\"*.csv\"\n",
    "files2=glob.glob(csv_path2)      # gives you list of csv files in the directory\n",
    "files2=sorted(files2)            # just to make sure that the order is correct"
   ]
  },
  {
   "cell_type": "code",
   "execution_count": 15,
   "metadata": {},
   "outputs": [
    {
     "data": {
      "text/plain": [
       "1820"
      ]
     },
     "execution_count": 15,
     "metadata": {},
     "output_type": "execute_result"
    }
   ],
   "source": [
    "Q2= [pd.read_csv(file) for file in files2]\n",
    "len(Q2)"
   ]
  },
  {
   "cell_type": "code",
   "execution_count": 16,
   "metadata": {},
   "outputs": [],
   "source": [
    "path3='/Users/alessandralupini/Downloads/Project_PythonDataIES-master-2/Third_q/'  # make your own path to the data\n",
    "csv_path3=path3+\"*.csv\"\n",
    "files3=glob.glob(csv_path3)      # gives you list of csv files in the directory\n",
    "files3=sorted(files3)            # just to make sure that the order is correct"
   ]
  },
  {
   "cell_type": "code",
   "execution_count": 17,
   "metadata": {},
   "outputs": [
    {
     "data": {
      "text/plain": [
       "1820"
      ]
     },
     "execution_count": 17,
     "metadata": {},
     "output_type": "execute_result"
    }
   ],
   "source": [
    "Q3= [pd.read_csv(file) for file in files3]\n",
    "len(Q3)"
   ]
  },
  {
   "cell_type": "code",
   "execution_count": 18,
   "metadata": {},
   "outputs": [],
   "source": [
    "path4='/Users/alessandralupini/Downloads/Project_PythonDataIES-master-2/Fourth_q/'  # make your own path to the data\n",
    "csv_path4=path4+\"*.csv\"\n",
    "files4=glob.glob(csv_path4)      # gives you list of csv files in the directory\n",
    "files4=sorted(files4)            # just to make sure that the order is correct"
   ]
  },
  {
   "cell_type": "code",
   "execution_count": 19,
   "metadata": {},
   "outputs": [
    {
     "data": {
      "text/plain": [
       "1820"
      ]
     },
     "execution_count": 19,
     "metadata": {},
     "output_type": "execute_result"
    }
   ],
   "source": [
    "Q4= [pd.read_csv(file) for file in files4]\n",
    "len(Q4)"
   ]
  },
  {
   "cell_type": "code",
   "execution_count": 20,
   "metadata": {},
   "outputs": [],
   "source": [
    "''' Changing names of columns to english  '''\n",
    "for x in Q1: \n",
    "    x.columns=['city', 'year', 'month', 'day', 'mean T', 'min T', 'max T', 'prec', 'humidity', 'wind']\n",
    "for x in Q2: \n",
    "    x.columns=['city', 'year', 'month', 'day', 'mean T', 'min T', 'max T', 'prec', 'humidity', 'wind']\n",
    "for x in Q3: \n",
    "    x.columns=['city', 'year', 'month', 'day', 'mean T', 'min T', 'max T', 'prec', 'humidity', 'wind']\n",
    "for x in Q4: \n",
    "    x.columns=['city', 'year', 'month', 'day', 'mean T', 'min T', 'max T', 'prec', 'humidity', 'wind']"
   ]
  },
  {
   "cell_type": "code",
   "execution_count": 21,
   "metadata": {},
   "outputs": [],
   "source": [
    "''' Creating a column with the difference between max and min daily temperature '''\n",
    "for table in Q1:\n",
    "    table[\"T diff\"]=table[\"max T\"]-table[\"min T\"]\n",
    "\n",
    "for table in Q2:\n",
    "    table[\"T diff\"]=table[\"max T\"]-table[\"min T\"]\n",
    "for table in Q3:\n",
    "    table[\"T diff\"]=table[\"max T\"]-table[\"min T\"]\n",
    "for table in Q4:\n",
    "    table[\"T diff\"]=table[\"max T\"]-table[\"min T\"]    "
   ]
  },
  {
   "cell_type": "code",
   "execution_count": 22,
   "metadata": {},
   "outputs": [],
   "source": [
    "''' Assuming that missing values for reciprication means no rain  '''\n",
    "for x in Q1:\n",
    "    x[\"prec\"]=x[\"prec\"].replace(np.NaN,0)\n",
    "for x in Q2:\n",
    "    x[\"prec\"]=x[\"prec\"].replace(np.NaN,0)\n",
    "for x in Q3:\n",
    "    x[\"prec\"]=x[\"prec\"].replace(np.NaN,0)\n",
    "for x in Q4:\n",
    "    x[\"prec\"]=x[\"prec\"].replace(np.NaN,0)    "
   ]
  },
  {
   "cell_type": "markdown",
   "metadata": {},
   "source": [
    "## Calculations of quarterly averages and variances"
   ]
  },
  {
   "cell_type": "code",
   "execution_count": 23,
   "metadata": {},
   "outputs": [],
   "source": [
    "''' Calculation of quarterly mean of daily temperatures'''\n",
    "meanT_means_Q1=[np.mean(x[\"mean T\"]) for x in Q1]\n",
    "meanT_means_Q2=[np.mean(x[\"mean T\"]) for x in Q2]\n",
    "meanT_means_Q3=[np.mean(x[\"mean T\"]) for x in Q3]\n",
    "meanT_means_Q4=[np.mean(x[\"mean T\"]) for x in Q4]"
   ]
  },
  {
   "cell_type": "code",
   "execution_count": 24,
   "metadata": {},
   "outputs": [],
   "source": [
    "''' Calculation of quarterly mean of precipitations'''\n",
    "prec_means_Q1=[np.mean(x[\"prec\"]) for x in Q1]\n",
    "prec_means_Q2=[np.mean(x[\"prec\"]) for x in Q2]\n",
    "prec_means_Q3=[np.mean(x[\"prec\"]) for x in Q3]\n",
    "prec_means_Q4=[np.mean(x[\"prec\"]) for x in Q4]"
   ]
  },
  {
   "cell_type": "code",
   "execution_count": 25,
   "metadata": {},
   "outputs": [],
   "source": [
    "''' Calculation of quarterly mean of daily maximal wind'''\n",
    "wind_means_Q1=[np.mean(x[\"wind\"]) for x in Q1]\n",
    "wind_means_Q2=[np.mean(x[\"wind\"]) for x in Q2]\n",
    "wind_means_Q3=[np.mean(x[\"wind\"]) for x in Q3]\n",
    "wind_means_Q4=[np.mean(x[\"wind\"]) for x in Q4]"
   ]
  },
  {
   "cell_type": "code",
   "execution_count": 26,
   "metadata": {},
   "outputs": [],
   "source": [
    "''' Calculation of quarterly mean of daily temperature range'''\n",
    "Tdiff_means_Q1=[np.mean(x[\"T diff\"]) for x in Q1]\n",
    "Tdiff_means_Q2=[np.mean(x[\"T diff\"]) for x in Q2]\n",
    "Tdiff_means_Q3=[np.mean(x[\"T diff\"]) for x in Q3]\n",
    "Tdiff_means_Q4=[np.mean(x[\"T diff\"]) for x in Q4]"
   ]
  },
  {
   "cell_type": "code",
   "execution_count": 27,
   "metadata": {},
   "outputs": [],
   "source": [
    "''' Calculation of quarterly mean of humidity  '''\n",
    "hum_means_Q1=[np.mean(x[\"humidity\"]) for x in Q1]\n",
    "hum_means_Q2=[np.mean(x[\"humidity\"]) for x in Q2]\n",
    "hum_means_Q3=[np.mean(x[\"humidity\"]) for x in Q3]\n",
    "hum_means_Q4=[np.mean(x[\"humidity\"]) for x in Q4]"
   ]
  },
  {
   "cell_type": "code",
   "execution_count": 28,
   "metadata": {},
   "outputs": [],
   "source": [
    "''' Calculation of quarterly variance of daily temperatures  '''\n",
    "meanT_var_Q1=[np.var(x[\"mean T\"]) for x in Q1]\n",
    "meanT_var_Q2=[np.var(x[\"mean T\"]) for x in Q2]\n",
    "meanT_var_Q3=[np.var(x[\"mean T\"]) for x in Q3]\n",
    "meanT_var_Q4=[np.var(x[\"mean T\"]) for x in Q4]"
   ]
  },
  {
   "cell_type": "code",
   "execution_count": 29,
   "metadata": {},
   "outputs": [],
   "source": [
    "''' Calculation of quarterly variance of precipitation  '''\n",
    "prec_var_Q1=[np.var(x[\"prec\"]) for x in Q1]\n",
    "prec_var_Q2=[np.var(x[\"prec\"]) for x in Q2]\n",
    "prec_var_Q3=[np.var(x[\"prec\"]) for x in Q3]\n",
    "prec_var_Q4=[np.var(x[\"prec\"]) for x in Q4]"
   ]
  },
  {
   "cell_type": "code",
   "execution_count": 30,
   "metadata": {},
   "outputs": [],
   "source": [
    "''' Calculation of quarterly variance of daily maximal wind  '''\n",
    "wind_var_Q1=[np.var(x[\"wind\"]) for x in Q1]\n",
    "wind_var_Q2=[np.var(x[\"wind\"]) for x in Q2]\n",
    "wind_var_Q3=[np.var(x[\"wind\"]) for x in Q3]\n",
    "wind_var_Q4=[np.var(x[\"wind\"]) for x in Q4]"
   ]
  },
  {
   "cell_type": "code",
   "execution_count": 31,
   "metadata": {},
   "outputs": [],
   "source": [
    "''' Calculation of quarterly variance of daily temperature range '''\n",
    "Tdiff_var_Q1=[np.var(x[\"T diff\"]) for x in Q1]\n",
    "Tdiff_var_Q2=[np.var(x[\"T diff\"]) for x in Q2]\n",
    "Tdiff_var_Q3=[np.var(x[\"T diff\"]) for x in Q3]\n",
    "Tdiff_var_Q4=[np.var(x[\"T diff\"]) for x in Q4]"
   ]
  },
  {
   "cell_type": "code",
   "execution_count": 32,
   "metadata": {},
   "outputs": [],
   "source": [
    "''' Calculation of quarterly variance of humidity '''\n",
    "hum_var_Q1=[np.var(x[\"humidity\"]) for x in Q1]\n",
    "hum_var_Q2=[np.var(x[\"humidity\"]) for x in Q2]\n",
    "hum_var_Q3=[np.var(x[\"humidity\"]) for x in Q3]\n",
    "hum_var_Q4=[np.var(x[\"humidity\"]) for x in Q4]"
   ]
  },
  {
   "cell_type": "markdown",
   "metadata": {},
   "source": [
    "### Creating quarterly data and measures for the whole Italy"
   ]
  },
  {
   "cell_type": "code",
   "execution_count": 33,
   "metadata": {},
   "outputs": [],
   "source": [
    "''' Creating quarterly dataframes for the whole Italy ''' \n",
    "all_ITA_Q1=[pd.concat(Q1[i::35]) for i in range(int(len(Q1)/35))]\n",
    "all_ITA_Q2=[pd.concat(Q2[i::35]) for i in range(int(len(Q2)/35))]\n",
    "all_ITA_Q3=[pd.concat(Q3[i::35]) for i in range(int(len(Q3)/35))]\n",
    "all_ITA_Q4=[pd.concat(Q4[i::35]) for i in range(int(len(Q4)/35))]"
   ]
  },
  {
   "cell_type": "code",
   "execution_count": 34,
   "metadata": {},
   "outputs": [],
   "source": [
    "''' Calculation of quarterly averages for all Italian data '''\n",
    "ITA_meanT_means_Q1=[np.mean(x[\"mean T\"]) for x in all_ITA_Q1]\n",
    "ITA_wind_means_Q1=[np.mean(x[\"wind\"]) for x in all_ITA_Q1]\n",
    "ITA_prec_means_Q1=[np.mean(x[\"prec\"]) for x in all_ITA_Q1]\n",
    "ITA_Tdiff_means_Q1=[np.mean(x[\"T diff\"]) for x in all_ITA_Q1]\n",
    "ITA_hum_means_Q1=[np.mean(x[\"humidity\"]) for x in all_ITA_Q1]\n",
    "\n",
    "ITA_meanT_means_Q2=[np.mean(x[\"mean T\"]) for x in all_ITA_Q2]\n",
    "ITA_wind_means_Q2=[np.mean(x[\"wind\"]) for x in all_ITA_Q2]\n",
    "ITA_prec_means_Q2=[np.mean(x[\"prec\"]) for x in all_ITA_Q2]\n",
    "ITA_Tdiff_means_Q2=[np.mean(x[\"T diff\"]) for x in all_ITA_Q2]\n",
    "ITA_hum_means_Q2=[np.mean(x[\"humidity\"]) for x in all_ITA_Q2]\n",
    "\n",
    "ITA_meanT_means_Q3=[np.mean(x[\"mean T\"]) for x in all_ITA_Q3]\n",
    "ITA_wind_means_Q3=[np.mean(x[\"wind\"]) for x in all_ITA_Q3]\n",
    "ITA_prec_means_Q3=[np.mean(x[\"prec\"]) for x in all_ITA_Q3]\n",
    "ITA_Tdiff_means_Q3=[np.mean(x[\"T diff\"]) for x in all_ITA_Q3]\n",
    "ITA_hum_means_Q3=[np.mean(x[\"humidity\"]) for x in all_ITA_Q3]\n",
    "\n",
    "ITA_meanT_means_Q4=[np.mean(x[\"mean T\"]) for x in all_ITA_Q4]\n",
    "ITA_wind_means_Q4=[np.mean(x[\"wind\"]) for x in all_ITA_Q4]\n",
    "ITA_prec_means_Q4=[np.mean(x[\"prec\"]) for x in all_ITA_Q4]\n",
    "ITA_Tdiff_means_Q4=[np.mean(x[\"T diff\"]) for x in all_ITA_Q4]\n",
    "ITA_hum_means_Q4=[np.mean(x[\"humidity\"]) for x in all_ITA_Q4]"
   ]
  },
  {
   "cell_type": "code",
   "execution_count": 35,
   "metadata": {},
   "outputs": [],
   "source": [
    "''' Calculation of quarterly variances for all Italian data '''\n",
    "ITA_meanT_var_Q1=[np.var(x[\"mean T\"]) for x in all_ITA_Q1]\n",
    "ITA_wind_var_Q1=[np.var(x[\"wind\"]) for x in all_ITA_Q1]\n",
    "ITA_prec_var_Q1=[np.var(x[\"prec\"]) for x in all_ITA_Q1]\n",
    "ITA_Tdiff_var_Q1=[np.var(x[\"T diff\"]) for x in all_ITA_Q1]\n",
    "ITA_hum_var_Q1=[np.var(x[\"humidity\"]) for x in all_ITA_Q1]\n",
    "\n",
    "ITA_meanT_var_Q2=[np.var(x[\"mean T\"]) for x in all_ITA_Q2]\n",
    "ITA_wind_var_Q2=[np.var(x[\"wind\"]) for x in all_ITA_Q2]\n",
    "ITA_prec_var_Q2=[np.var(x[\"prec\"]) for x in all_ITA_Q2]\n",
    "ITA_Tdiff_var_Q2=[np.var(x[\"T diff\"]) for x in all_ITA_Q2]\n",
    "ITA_hum_var_Q2=[np.var(x[\"humidity\"]) for x in all_ITA_Q2]\n",
    "\n",
    "ITA_meanT_var_Q3=[np.var(x[\"mean T\"]) for x in all_ITA_Q3]\n",
    "ITA_wind_var_Q3=[np.var(x[\"wind\"]) for x in all_ITA_Q3]\n",
    "ITA_prec_var_Q3=[np.var(x[\"prec\"]) for x in all_ITA_Q3]\n",
    "ITA_Tdiff_var_Q3=[np.var(x[\"T diff\"]) for x in all_ITA_Q3]\n",
    "ITA_hum_var_Q3=[np.var(x[\"humidity\"]) for x in all_ITA_Q3]\n",
    "\n",
    "ITA_meanT_var_Q4=[np.var(x[\"mean T\"]) for x in all_ITA_Q4]\n",
    "ITA_wind_var_Q4=[np.var(x[\"wind\"]) for x in all_ITA_Q4]\n",
    "ITA_prec_var_Q4=[np.var(x[\"prec\"]) for x in all_ITA_Q4]\n",
    "ITA_Tdiff_var_Q4=[np.var(x[\"T diff\"]) for x in all_ITA_Q4]\n",
    "ITA_hum_var_Q4=[np.var(x[\"humidity\"]) for x in all_ITA_Q4]"
   ]
  },
  {
   "cell_type": "code",
   "execution_count": null,
   "metadata": {},
   "outputs": [],
   "source": []
  },
  {
   "cell_type": "markdown",
   "metadata": {},
   "source": [
    "# To do: create 35-long time series for each city across variables and quarters for both averages and variances \n",
    "\n",
    "# interpret averages and variances time series that we have, their historical development, what can we imply from that, plot them to see how they were changing throughout the time; to think what else can we learn from our data\n",
    "\n",
    "## Perhaps good idea to plot all of the 52 city time series of variable X over Nth quarter into a single plot; for better comparison we can standardized each series of averages and variances with the mean of that time series"
   ]
  },
  {
   "cell_type": "code",
   "execution_count": 46,
   "metadata": {},
   "outputs": [],
   "source": [
    "# list of city specific time series of averages of the variable \"mean temperature\" over quarters\n",
    "t_series_meanT_means_Q1=[meanT_means_Q1[i*35:((i+1)*35)] for i in range(52)]\n",
    "t_series_meanT_means_Q2=[meanT_means_Q2[i*35:((i+1)*35)] for i in range(52)]\n",
    "t_series_meanT_means_Q3=[meanT_means_Q3[i*35:((i+1)*35)] for i in range(52)]\n",
    "t_series_meanT_means_Q4=[meanT_means_Q4[i*35:((i+1)*35)] for i in range(52)]\n"
   ]
  },
  {
   "cell_type": "code",
   "execution_count": 57,
   "metadata": {},
   "outputs": [],
   "source": [
    "# list of city specific time series of averages of the variable \"wind\" over quarters\n",
    "t_series_wind_means_Q1=[wind_means_Q1[i*35:((i+1)*35)] for i in range(52)]\n",
    "t_series_wind_means_Q2=[wind_means_Q2[i*35:((i+1)*35)] for i in range(52)]\n",
    "t_series_wind_means_Q3=[wind_means_Q3[i*35:((i+1)*35)] for i in range(52)]\n",
    "t_series_wind_means_Q4=[wind_means_Q4[i*35:((i+1)*35)] for i in range(52)]\n",
    "\n"
   ]
  },
  {
   "cell_type": "code",
   "execution_count": null,
   "metadata": {},
   "outputs": [],
   "source": [
    "# list of city specific time series of averages of the variable \"precipitation\" over quarters\n",
    "t_series_prec_means_Q1=[prec_means_Q1[i*35:((i+1)*35)] for i in range(52)]\n",
    "t_series_prec_means_Q2=[prec_means_Q2[i*35:((i+1)*35)] for i in range(52)]\n",
    "t_series_prec_means_Q3=[prec_means_Q3[i*35:((i+1)*35)] for i in range(52)]\n",
    "t_series_prec_means_Q4=[prec_means_Q4[i*35:((i+1)*35)] for i in range(52)]"
   ]
  },
  {
   "cell_type": "code",
   "execution_count": 58,
   "metadata": {},
   "outputs": [],
   "source": [
    "# list of city specific time series of averages of the variable \"temperature rage\" over quarters\n",
    "t_series_Tdiff_means_Q1=[Tdiff_means_Q1[i*35:((i+1)*35)] for i in range(52)]\n",
    "t_series_Tdiff_means_Q2=[Tdiff_means_Q2[i*35:((i+1)*35)] for i in range(52)]\n",
    "t_series_Tdiff_means_Q3=[Tdiff_means_Q3[i*35:((i+1)*35)] for i in range(52)]\n",
    "t_series_Tdiff_means_Q4=[Tdiff_means_Q4[i*35:((i+1)*35)] for i in range(52)]"
   ]
  },
  {
   "cell_type": "code",
   "execution_count": 59,
   "metadata": {},
   "outputs": [],
   "source": [
    "# list of city specific time series of averages of the variable \"humidity\" over quarters\n",
    "t_series_hum_means_Q1=[hum_means_Q1[i*35:((i+1)*35)] for i in range(52)]\n",
    "t_series_hum_means_Q2=[hum_means_Q2[i*35:((i+1)*35)] for i in range(52)]\n",
    "t_series_hum_means_Q3=[hum_means_Q3[i*35:((i+1)*35)] for i in range(52)]\n",
    "t_series_hum_means_Q4=[hum_means_Q4[i*35:((i+1)*35)] for i in range(52)]"
   ]
  },
  {
   "cell_type": "code",
   "execution_count": 60,
   "metadata": {},
   "outputs": [
    {
     "name": "stdout",
     "output_type": "stream",
     "text": [
      "52\n",
      "35\n"
     ]
    }
   ],
   "source": [
    "print(len(t_series_meanT_means_Q2))   # we have list of 52 time series - for each city \n",
    "print(len(t_series_meanT_means_Q2[0])) # each time series has 35 observations - first quarter of years 1985-2019 "
   ]
  },
  {
   "cell_type": "code",
   "execution_count": 61,
   "metadata": {},
   "outputs": [
    {
     "data": {
      "text/plain": [
       "[8.879999999999999,\n",
       " 8.977777777777774,\n",
       " 7.453333333333335,\n",
       " 9.073626373626377,\n",
       " 9.045555555555556,\n",
       " 9.643333333333329,\n",
       " 9.210000000000003,\n",
       " 8.674725274725278,\n",
       " 7.635555555555557,\n",
       " 10.42,\n",
       " 9.207777777777782,\n",
       " 8.254945054945056,\n",
       " 9.468888888888888,\n",
       " 9.133333333333335,\n",
       " 8.858426966292138,\n",
       " 8.790588235294116,\n",
       " 11.040000000000004,\n",
       " 9.463333333333335,\n",
       " 7.947777777777782,\n",
       " 8.647252747252743,\n",
       " 7.524444444444442,\n",
       " 8.494444444444445,\n",
       " 10.443333333333335,\n",
       " 9.83186813186813,\n",
       " 8.931818181818182,\n",
       " 9.314606741573034,\n",
       " 8.898876404494382,\n",
       " 8.887640449438202,\n",
       " 9.707865168539326,\n",
       " 12.07865168539326,\n",
       " 9.333333333333334,\n",
       " 11.714285714285714,\n",
       " 9.426966292134832,\n",
       " 9.855555555555556,\n",
       " 9.48314606741573]"
      ]
     },
     "execution_count": 61,
     "metadata": {},
     "output_type": "execute_result"
    }
   ],
   "source": [
    "t_series_meanT_means_Q1[0] # average temperature during 1st quarter of year in Bari (1st city), 1985-2019"
   ]
  },
  {
   "cell_type": "code",
   "execution_count": 51,
   "metadata": {},
   "outputs": [],
   "source": [
    "# list of city specific time series of variance of the variable \"mean temperature\" over quarters\n",
    "t_series_meanT_var_Q1=[meanT_var_Q1[i*35:((i+1)*35)] for i in range(52)]\n",
    "t_series_meanT_var_Q2=[meanT_var_Q2[i*35:((i+1)*35)] for i in range(52)]\n",
    "t_series_meanT_var_Q3=[meanT_var_Q3[i*35:((i+1)*35)] for i in range(52)]\n",
    "t_series_meanT_var_Q4=[meanT_var_Q4[i*35:((i+1)*35)] for i in range(52)]"
   ]
  },
  {
   "cell_type": "code",
   "execution_count": 53,
   "metadata": {},
   "outputs": [],
   "source": [
    "# list of city specific time series of variance of the variable \"precipitation\" over quarters\n",
    "t_series_prec_var_Q1=[prec_var_Q1[i*35:((i+1)*35)] for i in range(52)]\n",
    "t_series_prec_var_Q2=[prec_var_Q2[i*35:((i+1)*35)] for i in range(52)]\n",
    "t_series_prec_var_Q3=[prec_var_Q3[i*35:((i+1)*35)] for i in range(52)]\n",
    "t_series_prec_var_Q4=[prec_var_Q4[i*35:((i+1)*35)] for i in range(52)]"
   ]
  },
  {
   "cell_type": "code",
   "execution_count": 54,
   "metadata": {},
   "outputs": [],
   "source": [
    "# list of city specific time series of variance of the variable \"wind\" over quarters\n",
    "t_series_wind_var_Q1=[wind_var_Q1[i*35:((i+1)*35)] for i in range(52)]\n",
    "t_series_wind_var_Q2=[wind_var_Q2[i*35:((i+1)*35)] for i in range(52)]\n",
    "t_series_wind_var_Q3=[wind_var_Q3[i*35:((i+1)*35)] for i in range(52)]\n",
    "t_series_wind_var_Q4=[wind_var_Q4[i*35:((i+1)*35)] for i in range(52)]"
   ]
  },
  {
   "cell_type": "code",
   "execution_count": null,
   "metadata": {},
   "outputs": [],
   "source": [
    "# list of city specific time series of variance of the variable \"temperature rage\" over quarters\n",
    "t_series_Tdiff_var_Q1=[Tdiff_var_Q1[i*35:((i+1)*35)] for i in range(52)]\n",
    "t_series_Tdiff_var_Q2=[Tdiff_var_Q2[i*35:((i+1)*35)] for i in range(52)]\n",
    "t_series_Tdiff_var_Q3=[Tdiff_var_Q3[i*35:((i+1)*35)] for i in range(52)]\n",
    "t_series_Tdiff_var_Q4=[Tdiff_var_Q4[i*35:((i+1)*35)] for i in range(52)]"
   ]
  },
  {
   "cell_type": "code",
   "execution_count": 56,
   "metadata": {},
   "outputs": [],
   "source": [
    "# list of city specific time series of variance of the variable \"humidity\" over quarters\n",
    "t_series_hum_var_Q1=[hum_var_Q1[i*35:((i+1)*35)] for i in range(52)]\n",
    "t_series_hum_var_Q2=[hum_var_Q2[i*35:((i+1)*35)] for i in range(52)]\n",
    "t_series_hum_var_Q3=[hum_var_Q3[i*35:((i+1)*35)] for i in range(52)]\n",
    "t_series_hum_var_Q4=[hum_var_Q4[i*35:((i+1)*35)] for i in range(52)]\n"
   ]
  },
  {
   "cell_type": "code",
   "execution_count": null,
   "metadata": {},
   "outputs": [],
   "source": []
  },
  {
   "cell_type": "code",
   "execution_count": null,
   "metadata": {},
   "outputs": [],
   "source": []
  },
  {
   "cell_type": "code",
   "execution_count": null,
   "metadata": {},
   "outputs": [],
   "source": []
  },
  {
   "cell_type": "code",
   "execution_count": null,
   "metadata": {},
   "outputs": [],
   "source": []
  },
  {
   "cell_type": "code",
   "execution_count": null,
   "metadata": {},
   "outputs": [],
   "source": []
  }
 ],
 "metadata": {
  "kernelspec": {
   "display_name": "Python 3",
   "language": "python",
   "name": "python3"
  },
  "language_info": {
   "codemirror_mode": {
    "name": "ipython",
    "version": 3
   },
   "file_extension": ".py",
   "mimetype": "text/x-python",
   "name": "python",
   "nbconvert_exporter": "python",
   "pygments_lexer": "ipython3",
   "version": "3.7.3"
  }
 },
 "nbformat": 4,
 "nbformat_minor": 2
}
